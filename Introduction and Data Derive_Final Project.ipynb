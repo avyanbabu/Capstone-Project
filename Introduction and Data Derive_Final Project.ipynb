{
 "cells": [
  {
   "cell_type": "markdown",
   "metadata": {},
   "source": [
    "## Coursera_Final Project_Predicting the Traffic Injury"
   ]
  },
  {
   "cell_type": "markdown",
   "metadata": {},
   "source": [
    "### Introduction"
   ]
  },
  {
   "cell_type": "markdown",
   "metadata": {},
   "source": [
    "Road accident which might be severe or normal is currently estimated eight leading injuries \n",
    "which might be seventh by 2030 globally. There are different facors such as weather conditions, \n",
    "special events, construction, traffic jams and others impact directly for the traffic injury and \n",
    "these factors which helps to predict the severity of an road accident.These models or prediction \n",
    "will help to make decisions and prevent the severe accidents to occurs.It might be very useful for \n",
    "great range of people from governemnt to public, which help them to understand the nautre of accident, \n",
    "mostly occurance area and when it occurs. Basically this analysis helps to answer many related\n",
    "question with traffic injuries."
   ]
  },
  {
   "cell_type": "markdown",
   "metadata": {},
   "source": [
    "I included two notebooks for this project, which are "
   ]
  },
  {
   "cell_type": "markdown",
   "metadata": {},
   "source": [
    "### 1. Feature selection"
   ]
  },
  {
   "cell_type": "markdown",
   "metadata": {},
   "source": [
    "In this section , raw data is downloaded from Kaggle. From all these dataset, \n",
    "i have selected the relevant  and useful data for analyis."
   ]
  },
  {
   "cell_type": "markdown",
   "metadata": {},
   "source": [
    "### 2. Final project for predicting the traffic severe accident"
   ]
  },
  {
   "cell_type": "markdown",
   "metadata": {},
   "source": [
    "It includes:\n",
    "    \n",
    "- Data Description \n",
    "- Data Cleaning -\n",
    "- Data understanding and visualization \n",
    "- Model Development \n",
    "- Random Forest \n",
    "- Logistic Regression \n",
    "- KNN \n",
    "- SVM \n",
    "\n",
    "Results\n"
   ]
  }
 ],
 "metadata": {
  "kernelspec": {
   "display_name": "Python 3",
   "language": "python",
   "name": "python3"
  },
  "language_info": {
   "codemirror_mode": {
    "name": "ipython",
    "version": 3
   },
   "file_extension": ".py",
   "mimetype": "text/x-python",
   "name": "python",
   "nbconvert_exporter": "python",
   "pygments_lexer": "ipython3",
   "version": "3.8.3"
  }
 },
 "nbformat": 4,
 "nbformat_minor": 4
}
